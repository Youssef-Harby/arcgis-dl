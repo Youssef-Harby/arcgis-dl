{
 "cells": [
  {
   "cell_type": "markdown",
   "metadata": {},
   "source": [
    "# Saving Metadata with DataFrames\n",
    "https://towardsdatascience.com/saving-metadata-with-dataframes-71f51f558d8e\n",
    "https://github.com/darrenjs/howto/blob/master/python/metadata_with_pandas.py"
   ]
  },
  {
   "cell_type": "code",
   "execution_count": 1,
   "metadata": {},
   "outputs": [],
   "source": [
    "import pandas as pd\n",
    "import pyarrow as pa\n",
    "import pyarrow.parquet as pq\n",
    "import json"
   ]
  },
  {
   "cell_type": "code",
   "execution_count": 2,
   "metadata": {},
   "outputs": [],
   "source": [
    "# example data\n",
    "df = pd.DataFrame(\n",
    "  { 'temp': [12.1, 11, 13, 10, 10],\n",
    "    'rain': [9.2, 10.0, 2.2, 0.2, 0.4] },\n",
    "    index=pd.DatetimeIndex(['2020-10-12',\n",
    "                            '2020-10-13',\n",
    "                            '2020-10-14',\n",
    "                            '2020-10-15',\n",
    "                            '2020-10-16'],\n",
    "                           name='date')\n",
    ")"
   ]
  },
  {
   "cell_type": "code",
   "execution_count": 3,
   "metadata": {},
   "outputs": [],
   "source": [
    "# example metadata, and our custom key at which it will be stored.\n",
    "custom_meta_key = 'weatherapp.iot'\n",
    "custom_meta_content = {\n",
    "    'user': 'Wáng Fāng',\n",
    "    'coord': '55.9533° N, 3.1883° W',\n",
    "    'time': '2020-10-17T03:59:59+0000'  # ISO-8601\n",
    "}"
   ]
  },
  {
   "cell_type": "code",
   "execution_count": 4,
   "metadata": {},
   "outputs": [],
   "source": [
    "# convert DataFrame to Arrow table\n",
    "table = pa.Table.from_pandas(df)"
   ]
  },
  {
   "cell_type": "code",
   "execution_count": 5,
   "metadata": {},
   "outputs": [
    {
     "name": "stdout",
     "output_type": "stream",
     "text": [
      "{b'pandas': b'{\"index_columns\": [\"date\"], \"column_indexes\": [{\"name\": null, \"field_name\": null, \"pandas_type\": \"unicode\", \"numpy_type\": \"object\", \"metadata\": {\"encoding\": \"UTF-8\"}}], \"columns\": [{\"name\": \"temp\", \"field_name\": \"temp\", \"pandas_type\": \"float64\", \"numpy_type\": \"float64\", \"metadata\": null}, {\"name\": \"rain\", \"field_name\": \"rain\", \"pandas_type\": \"float64\", \"numpy_type\": \"float64\", \"metadata\": null}, {\"name\": \"date\", \"field_name\": \"date\", \"pandas_type\": \"datetime\", \"numpy_type\": \"datetime64[ns]\", \"metadata\": null}], \"creator\": {\"library\": \"pyarrow\", \"version\": \"8.0.0\"}, \"pandas_version\": \"1.4.2\"}'}\n"
     ]
    }
   ],
   "source": [
    "# show the table meta data\n",
    "print(table.schema.metadata)"
   ]
  },
  {
   "cell_type": "code",
   "execution_count": 6,
   "metadata": {},
   "outputs": [
    {
     "name": "stdout",
     "output_type": "stream",
     "text": [
      "{'index_columns': ['date'], 'column_indexes': [{'name': None, 'field_name': None, 'pandas_type': 'unicode', 'numpy_type': 'object', 'metadata': {'encoding': 'UTF-8'}}], 'columns': [{'name': 'temp', 'field_name': 'temp', 'pandas_type': 'float64', 'numpy_type': 'float64', 'metadata': None}, {'name': 'rain', 'field_name': 'rain', 'pandas_type': 'float64', 'numpy_type': 'float64', 'metadata': None}, {'name': 'date', 'field_name': 'date', 'pandas_type': 'datetime', 'numpy_type': 'datetime64[ns]', 'metadata': None}], 'creator': {'library': 'pyarrow', 'version': '8.0.0'}, 'pandas_version': '1.4.2'}\n"
     ]
    }
   ],
   "source": [
    "# decode the Arrow metadata into a plain nested dict, and print\n",
    "pandas_meta = json.loads(table.schema.metadata[b'pandas'])\n",
    "print(pandas_meta)"
   ]
  },
  {
   "cell_type": "code",
   "execution_count": 7,
   "metadata": {},
   "outputs": [],
   "source": [
    "\n",
    "# Arrow metadata can only be byte strings, so we must encode our metadata into\n",
    "# such a format (we will also do the same for custom_meta_key). This returns a\n",
    "# pure ASCII string, which means UTF characters will be appear like: \\u0103\n",
    "custom_meta_json = json.dumps(custom_meta_content)"
   ]
  },
  {
   "cell_type": "code",
   "execution_count": 8,
   "metadata": {},
   "outputs": [],
   "source": [
    "# Build the new global metadata by merging together our custom metadata and the\n",
    "# existing metadata; it is because of this merge that we need to choose a unique\n",
    "# namespace key for our custom metadata.\n",
    "existing_meta = table.schema.metadata\n",
    "combined_meta = {\n",
    "    custom_meta_key.encode() : custom_meta_json.encode(),\n",
    "    **existing_meta\n",
    "}"
   ]
  },
  {
   "cell_type": "code",
   "execution_count": 9,
   "metadata": {},
   "outputs": [],
   "source": [
    "# Create a new Arrow table by copying existing table but with the metadata\n",
    "# replaced.  Store the new table in the reused `table` variable.\n",
    "table = table.replace_schema_metadata(combined_meta)"
   ]
  },
  {
   "cell_type": "code",
   "execution_count": 10,
   "metadata": {},
   "outputs": [],
   "source": [
    "# write the file\n",
    "pq.write_table(table, 'example.parquet', compression='GZIP')"
   ]
  },
  {
   "cell_type": "code",
   "execution_count": 11,
   "metadata": {},
   "outputs": [],
   "source": [
    "# now load it back in\n",
    "restored_table = pq.read_table('example.parquet')"
   ]
  },
  {
   "cell_type": "code",
   "execution_count": 12,
   "metadata": {},
   "outputs": [],
   "source": [
    "# obtain the orignal DataFrame\n",
    "restored_df = restored_table.to_pandas()"
   ]
  },
  {
   "cell_type": "code",
   "execution_count": 13,
   "metadata": {},
   "outputs": [],
   "source": [
    "# to get our custom metadata, we first retrieve from the global namespace\n",
    "restored_meta_json = restored_table.schema.metadata[custom_meta_key.encode()]"
   ]
  },
  {
   "cell_type": "code",
   "execution_count": 14,
   "metadata": {},
   "outputs": [],
   "source": [
    "# since we stored as an encoded string, we need to decode it\n",
    "restored_meta = json.loads(restored_meta_json)"
   ]
  },
  {
   "cell_type": "code",
   "execution_count": null,
   "metadata": {},
   "outputs": [],
   "source": []
  }
 ],
 "metadata": {
  "kernelspec": {
   "display_name": "Python 3.9.13 ('arcgisdl')",
   "language": "python",
   "name": "python3"
  },
  "language_info": {
   "codemirror_mode": {
    "name": "ipython",
    "version": 3
   },
   "file_extension": ".py",
   "mimetype": "text/x-python",
   "name": "python",
   "nbconvert_exporter": "python",
   "pygments_lexer": "ipython3",
   "version": "3.9.13"
  },
  "orig_nbformat": 4,
  "vscode": {
   "interpreter": {
    "hash": "91187101552f5f42ca75bb51c59543075efe9cdc824e6ca4b36e5e07e360e8bf"
   }
  }
 },
 "nbformat": 4,
 "nbformat_minor": 2
}
